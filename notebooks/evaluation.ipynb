{
 "cells": [
  {
   "cell_type": "code",
   "execution_count": null,
   "metadata": {},
   "outputs": [],
   "source": [
    "# Evaluate the performance of the ranking models\n",
    "from src.evaluation.metrics import evaluate\n",
    "\n",
    "predictions = [...]  # Model predictions\n",
    "ground_truths = [...]  # Ground truth relevance\n",
    "metrics = evaluate(predictions, ground_truths)\n",
    "print(metrics)\n"
   ]
  }
 ],
 "metadata": {
  "language_info": {
   "name": "python"
  }
 },
 "nbformat": 4,
 "nbformat_minor": 2
}

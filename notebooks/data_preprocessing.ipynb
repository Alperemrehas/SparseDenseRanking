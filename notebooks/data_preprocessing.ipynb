{
 "cells": [
  {
   "cell_type": "code",
   "execution_count": null,
   "metadata": {},
   "outputs": [],
   "source": [
    "# Load and preprocess the datasets\n",
    "import pandas as pd\n",
    "from src.utils import load_data, save_data\n",
    "\n"
   ]
  },
  {
   "cell_type": "code",
   "execution_count": null,
   "metadata": {},
   "outputs": [],
   "source": [
    "# Example: Load Istella22 dataset\n",
    "raw_data = load_data('data/istella22/raw_data.json')\n",
    "processed_data = preprocess_data(raw_data)  # Add your preprocessing logic here\n",
    "save_data(processed_data, 'data/processed/istella22.json')\n"
   ]
  }
 ],
 "metadata": {
  "language_info": {
   "name": "python"
  }
 },
 "nbformat": 4,
 "nbformat_minor": 2
}

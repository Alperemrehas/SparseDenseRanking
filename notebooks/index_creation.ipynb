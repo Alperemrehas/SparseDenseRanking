{
 "cells": [
  {
   "cell_type": "code",
   "execution_count": null,
   "metadata": {},
   "outputs": [],
   "source": [
    "# Create sparse and dense indices\n",
    "from src.indexing.sparse_indexing import create_sparse_index\n",
    "from src.indexing.dense_indexing import create_dense_index\n",
    "\n",
    "# Sparse Index\n",
    "create_sparse_index('data/processed/', 'results/index/sparse')\n",
    "\n",
    "# Dense Index\n",
    "docs = [...]  # Load preprocessed documents\n",
    "index = create_dense_index(docs)\n"
   ]
  }
 ],
 "metadata": {
  "language_info": {
   "name": "python"
  }
 },
 "nbformat": 4,
 "nbformat_minor": 2
}
